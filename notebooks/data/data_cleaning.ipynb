{
 "cells": [
  {
   "cell_type": "code",
   "execution_count": 1,
   "id": "89177abf",
   "metadata": {},
   "outputs": [],
   "source": [
    "import pandas as pd "
   ]
  },
  {
   "cell_type": "code",
   "execution_count": 2,
   "id": "689acb03",
   "metadata": {},
   "outputs": [],
   "source": [
    "df = pd.read_csv('D:\\CADT\\InternshipI\\Project\\Digital-Loan\\data\\loan_data_100K.csv')"
   ]
  },
  {
   "cell_type": "code",
   "execution_count": 3,
   "id": "568e2aad",
   "metadata": {},
   "outputs": [],
   "source": [
    "df = df.drop(columns=['Name'])"
   ]
  },
  {
   "cell_type": "code",
   "execution_count": 4,
   "id": "18ddbe03",
   "metadata": {},
   "outputs": [
    {
     "data": {
      "application/vnd.microsoft.datawrangler.viewer.v0+json": {
       "columns": [
        {
         "name": "index",
         "rawType": "object",
         "type": "string"
        },
        {
         "name": "Age",
         "rawType": "float64",
         "type": "float"
        },
        {
         "name": "Dependents",
         "rawType": "float64",
         "type": "float"
        },
        {
         "name": "Job_Tenure",
         "rawType": "float64",
         "type": "float"
        },
        {
         "name": "Monthly_Income_USD",
         "rawType": "float64",
         "type": "float"
        },
        {
         "name": "Coapplicant_Income_USD",
         "rawType": "float64",
         "type": "float"
        },
        {
         "name": "Savings_Balance_USD",
         "rawType": "float64",
         "type": "float"
        },
        {
         "name": "Credit_Score",
         "rawType": "float64",
         "type": "float"
        },
        {
         "name": "Existing_Loans",
         "rawType": "float64",
         "type": "float"
        },
        {
         "name": "Late_Payments",
         "rawType": "float64",
         "type": "float"
        },
        {
         "name": "Loan_Term_Months",
         "rawType": "float64",
         "type": "float"
        },
        {
         "name": "Loan_Amount_USD",
         "rawType": "float64",
         "type": "float"
        },
        {
         "name": "Interest_Rate",
         "rawType": "float64",
         "type": "float"
        }
       ],
       "ref": "1e036caf-6acf-4311-a6f7-9f189d69cbbb",
       "rows": [
        [
         "count",
         "100000.0",
         "100000.0",
         "100000.0",
         "100000.0",
         "100000.0",
         "100000.0",
         "100000.0",
         "100000.0",
         "100000.0",
         "100000.0",
         "100000.0",
         "100000.0"
        ],
        [
         "mean",
         "34.7369",
         "1.51024",
         "7.14001",
         "253.7586197",
         "20.304765200000002",
         "258.6524337",
         "630.61251",
         "0.69644",
         "0.20698",
         "8.52994",
         "4845.9632289",
         "14.2152719"
        ],
        [
         "std",
         "9.56712463014551",
         "1.3695670482086648",
         "4.000303391515728",
         "183.79420168734788",
         "41.13702330305064",
         "201.26624112682256",
         "82.51658106927003",
         "0.8326093074080951",
         "0.519809562839908",
         "6.057642325748977",
         "3041.1184390312687",
         "1.7854976483011427"
        ],
        [
         "min",
         "18.0",
         "0.0",
         "1.0",
         "85.0",
         "0.0",
         "52.83",
         "440.0",
         "0.0",
         "0.0",
         "1.0",
         "1034.32",
         "10.0"
        ],
        [
         "25%",
         "28.0",
         "0.0",
         "4.0",
         "158.8475",
         "0.0",
         "153.32",
         "592.0",
         "0.0",
         "0.0",
         "4.0",
         "2938.4874999999997",
         "12.8"
        ],
        [
         "50%",
         "35.0",
         "1.0",
         "7.0",
         "212.96",
         "0.0",
         "211.59",
         "678.0",
         "1.0",
         "0.0",
         "7.0",
         "4030.87",
         "13.6"
        ],
        [
         "75%",
         "41.0",
         "2.0",
         "9.0",
         "285.9925",
         "30.3325",
         "302.19",
         "687.0",
         "1.0",
         "0.0",
         "12.0",
         "5710.34",
         "15.78"
        ],
        [
         "max",
         "65.0",
         "5.0",
         "19.0",
         "4744.39",
         "1800.62",
         "5108.67",
         "764.0",
         "7.0",
         "6.0",
         "38.0",
         "22000.0",
         "18.0"
        ]
       ],
       "shape": {
        "columns": 12,
        "rows": 8
       }
      },
      "text/html": [
       "<div>\n",
       "<style scoped>\n",
       "    .dataframe tbody tr th:only-of-type {\n",
       "        vertical-align: middle;\n",
       "    }\n",
       "\n",
       "    .dataframe tbody tr th {\n",
       "        vertical-align: top;\n",
       "    }\n",
       "\n",
       "    .dataframe thead th {\n",
       "        text-align: right;\n",
       "    }\n",
       "</style>\n",
       "<table border=\"1\" class=\"dataframe\">\n",
       "  <thead>\n",
       "    <tr style=\"text-align: right;\">\n",
       "      <th></th>\n",
       "      <th>Age</th>\n",
       "      <th>Dependents</th>\n",
       "      <th>Job_Tenure</th>\n",
       "      <th>Monthly_Income_USD</th>\n",
       "      <th>Coapplicant_Income_USD</th>\n",
       "      <th>Savings_Balance_USD</th>\n",
       "      <th>Credit_Score</th>\n",
       "      <th>Existing_Loans</th>\n",
       "      <th>Late_Payments</th>\n",
       "      <th>Loan_Term_Months</th>\n",
       "      <th>Loan_Amount_USD</th>\n",
       "      <th>Interest_Rate</th>\n",
       "    </tr>\n",
       "  </thead>\n",
       "  <tbody>\n",
       "    <tr>\n",
       "      <th>count</th>\n",
       "      <td>100000.000000</td>\n",
       "      <td>100000.000000</td>\n",
       "      <td>100000.000000</td>\n",
       "      <td>100000.000000</td>\n",
       "      <td>100000.000000</td>\n",
       "      <td>100000.000000</td>\n",
       "      <td>100000.000000</td>\n",
       "      <td>100000.000000</td>\n",
       "      <td>100000.00000</td>\n",
       "      <td>100000.000000</td>\n",
       "      <td>100000.000000</td>\n",
       "      <td>100000.000000</td>\n",
       "    </tr>\n",
       "    <tr>\n",
       "      <th>mean</th>\n",
       "      <td>34.736900</td>\n",
       "      <td>1.510240</td>\n",
       "      <td>7.140010</td>\n",
       "      <td>253.758620</td>\n",
       "      <td>20.304765</td>\n",
       "      <td>258.652434</td>\n",
       "      <td>630.612510</td>\n",
       "      <td>0.696440</td>\n",
       "      <td>0.20698</td>\n",
       "      <td>8.529940</td>\n",
       "      <td>4845.963229</td>\n",
       "      <td>14.215272</td>\n",
       "    </tr>\n",
       "    <tr>\n",
       "      <th>std</th>\n",
       "      <td>9.567125</td>\n",
       "      <td>1.369567</td>\n",
       "      <td>4.000303</td>\n",
       "      <td>183.794202</td>\n",
       "      <td>41.137023</td>\n",
       "      <td>201.266241</td>\n",
       "      <td>82.516581</td>\n",
       "      <td>0.832609</td>\n",
       "      <td>0.51981</td>\n",
       "      <td>6.057642</td>\n",
       "      <td>3041.118439</td>\n",
       "      <td>1.785498</td>\n",
       "    </tr>\n",
       "    <tr>\n",
       "      <th>min</th>\n",
       "      <td>18.000000</td>\n",
       "      <td>0.000000</td>\n",
       "      <td>1.000000</td>\n",
       "      <td>85.000000</td>\n",
       "      <td>0.000000</td>\n",
       "      <td>52.830000</td>\n",
       "      <td>440.000000</td>\n",
       "      <td>0.000000</td>\n",
       "      <td>0.00000</td>\n",
       "      <td>1.000000</td>\n",
       "      <td>1034.320000</td>\n",
       "      <td>10.000000</td>\n",
       "    </tr>\n",
       "    <tr>\n",
       "      <th>25%</th>\n",
       "      <td>28.000000</td>\n",
       "      <td>0.000000</td>\n",
       "      <td>4.000000</td>\n",
       "      <td>158.847500</td>\n",
       "      <td>0.000000</td>\n",
       "      <td>153.320000</td>\n",
       "      <td>592.000000</td>\n",
       "      <td>0.000000</td>\n",
       "      <td>0.00000</td>\n",
       "      <td>4.000000</td>\n",
       "      <td>2938.487500</td>\n",
       "      <td>12.800000</td>\n",
       "    </tr>\n",
       "    <tr>\n",
       "      <th>50%</th>\n",
       "      <td>35.000000</td>\n",
       "      <td>1.000000</td>\n",
       "      <td>7.000000</td>\n",
       "      <td>212.960000</td>\n",
       "      <td>0.000000</td>\n",
       "      <td>211.590000</td>\n",
       "      <td>678.000000</td>\n",
       "      <td>1.000000</td>\n",
       "      <td>0.00000</td>\n",
       "      <td>7.000000</td>\n",
       "      <td>4030.870000</td>\n",
       "      <td>13.600000</td>\n",
       "    </tr>\n",
       "    <tr>\n",
       "      <th>75%</th>\n",
       "      <td>41.000000</td>\n",
       "      <td>2.000000</td>\n",
       "      <td>9.000000</td>\n",
       "      <td>285.992500</td>\n",
       "      <td>30.332500</td>\n",
       "      <td>302.190000</td>\n",
       "      <td>687.000000</td>\n",
       "      <td>1.000000</td>\n",
       "      <td>0.00000</td>\n",
       "      <td>12.000000</td>\n",
       "      <td>5710.340000</td>\n",
       "      <td>15.780000</td>\n",
       "    </tr>\n",
       "    <tr>\n",
       "      <th>max</th>\n",
       "      <td>65.000000</td>\n",
       "      <td>5.000000</td>\n",
       "      <td>19.000000</td>\n",
       "      <td>4744.390000</td>\n",
       "      <td>1800.620000</td>\n",
       "      <td>5108.670000</td>\n",
       "      <td>764.000000</td>\n",
       "      <td>7.000000</td>\n",
       "      <td>6.00000</td>\n",
       "      <td>38.000000</td>\n",
       "      <td>22000.000000</td>\n",
       "      <td>18.000000</td>\n",
       "    </tr>\n",
       "  </tbody>\n",
       "</table>\n",
       "</div>"
      ],
      "text/plain": [
       "                 Age     Dependents     Job_Tenure  Monthly_Income_USD  \\\n",
       "count  100000.000000  100000.000000  100000.000000       100000.000000   \n",
       "mean       34.736900       1.510240       7.140010          253.758620   \n",
       "std         9.567125       1.369567       4.000303          183.794202   \n",
       "min        18.000000       0.000000       1.000000           85.000000   \n",
       "25%        28.000000       0.000000       4.000000          158.847500   \n",
       "50%        35.000000       1.000000       7.000000          212.960000   \n",
       "75%        41.000000       2.000000       9.000000          285.992500   \n",
       "max        65.000000       5.000000      19.000000         4744.390000   \n",
       "\n",
       "       Coapplicant_Income_USD  Savings_Balance_USD   Credit_Score  \\\n",
       "count           100000.000000        100000.000000  100000.000000   \n",
       "mean                20.304765           258.652434     630.612510   \n",
       "std                 41.137023           201.266241      82.516581   \n",
       "min                  0.000000            52.830000     440.000000   \n",
       "25%                  0.000000           153.320000     592.000000   \n",
       "50%                  0.000000           211.590000     678.000000   \n",
       "75%                 30.332500           302.190000     687.000000   \n",
       "max               1800.620000          5108.670000     764.000000   \n",
       "\n",
       "       Existing_Loans  Late_Payments  Loan_Term_Months  Loan_Amount_USD  \\\n",
       "count   100000.000000   100000.00000     100000.000000    100000.000000   \n",
       "mean         0.696440        0.20698          8.529940      4845.963229   \n",
       "std          0.832609        0.51981          6.057642      3041.118439   \n",
       "min          0.000000        0.00000          1.000000      1034.320000   \n",
       "25%          0.000000        0.00000          4.000000      2938.487500   \n",
       "50%          1.000000        0.00000          7.000000      4030.870000   \n",
       "75%          1.000000        0.00000         12.000000      5710.340000   \n",
       "max          7.000000        6.00000         38.000000     22000.000000   \n",
       "\n",
       "       Interest_Rate  \n",
       "count  100000.000000  \n",
       "mean       14.215272  \n",
       "std         1.785498  \n",
       "min        10.000000  \n",
       "25%        12.800000  \n",
       "50%        13.600000  \n",
       "75%        15.780000  \n",
       "max        18.000000  "
      ]
     },
     "execution_count": 4,
     "metadata": {},
     "output_type": "execute_result"
    }
   ],
   "source": [
    "df.describe()"
   ]
  },
  {
   "cell_type": "code",
   "execution_count": 5,
   "id": "ceb53e3b",
   "metadata": {},
   "outputs": [
    {
     "name": "stdout",
     "output_type": "stream",
     "text": [
      "Age                           0\n",
      "Gender                        0\n",
      "Marital_Status                0\n",
      "Dependents                    0\n",
      "Education_Level           22199\n",
      "Province                      0\n",
      "Job_Title                     0\n",
      "Employment_Type               0\n",
      "Job_Tenure                    0\n",
      "Monthly_Income_USD            0\n",
      "Coapplicant_Income_USD        0\n",
      "Savings_Balance_USD           0\n",
      "Credit_Score                  0\n",
      "Existing_Loans                0\n",
      "Late_Payments                 0\n",
      "Loan_Purpose                  0\n",
      "Loan_Term_Months              0\n",
      "Loan_Amount_USD               0\n",
      "Interest_Rate                 0\n",
      "dtype: int64\n"
     ]
    },
    {
     "name": "stderr",
     "output_type": "stream",
     "text": [
      "C:\\Users\\Hak Sou\\AppData\\Local\\Temp\\ipykernel_6172\\3953500503.py:5: FutureWarning: A value is trying to be set on a copy of a DataFrame or Series through chained assignment using an inplace method.\n",
      "The behavior will change in pandas 3.0. This inplace method will never work because the intermediate object on which we are setting values always behaves as a copy.\n",
      "\n",
      "For example, when doing 'df[col].method(value, inplace=True)', try using 'df.method({col: value}, inplace=True)' or df[col] = df[col].method(value) instead, to perform the operation inplace on the original object.\n",
      "\n",
      "\n",
      "  df['Education_Level'].fillna(df['Education_Level'].mode()[0], inplace=True)\n"
     ]
    }
   ],
   "source": [
    "# Check missing values\n",
    "print(df.isnull().sum())\n",
    "\n",
    "# Example imputation\n",
    "df['Education_Level'].fillna(df['Education_Level'].mode()[0], inplace=True)"
   ]
  },
  {
   "cell_type": "code",
   "execution_count": 6,
   "id": "77c10a48",
   "metadata": {},
   "outputs": [
    {
     "name": "stdout",
     "output_type": "stream",
     "text": [
      "Unique values in 'Gender':\n",
      "['Female' 'Male']\n",
      "----------------------------------------\n",
      "Unique values in 'Marital_Status':\n",
      "['Married' 'Divorced' 'Widowed' 'Single']\n",
      "----------------------------------------\n",
      "Unique values in 'Education_Level':\n",
      "['Primary' 'Secondary' 'High School' 'Vocational' 'Bachelor' 'Master+']\n",
      "----------------------------------------\n",
      "Unique values in 'Province':\n",
      "['Svay Rieng' 'Tboung Khmum' 'Kampong Cham' 'Banteay Meanchey' 'Kandal'\n",
      " 'Kampong Thom' 'Takeo' 'Preah Vihear' 'Kampong Chhnang' 'Koh Kong'\n",
      " 'Ratanakiri' 'Mondulkiri' 'Battambang' 'Kampong Speu' 'Pursat'\n",
      " 'Siem Reap' 'Pailin' 'Prey Veng' 'Preah Sihanouk' 'Kep' 'Stung Treng'\n",
      " 'Phnom Penh' 'Kampot' 'Kratie' 'Oddar Meanchey']\n",
      "----------------------------------------\n",
      "Unique values in 'Job_Title':\n",
      "['Fishery Worker' 'Waitstaff' 'Construction Laborer' 'Shop Assistant'\n",
      " 'Factory Supervisor' 'Farmer' 'Tuk-Tuk Driver' 'Garment Worker'\n",
      " 'Construction Worker' 'Security Guard' 'Market Vendor' 'Receptionist'\n",
      " 'Domestic Worker' 'Hotel Staff' 'Sales Staff' 'Beautician' 'Plumber'\n",
      " 'Electrician' 'Teacher' 'Taxi Driver' 'Engineer' 'Bank Staff'\n",
      " 'Auto Mechanic' 'NGO Worker' 'Nurse' 'Government Officer' 'Accountant'\n",
      " 'Lawyer' 'Bank Manager' 'Doctor' 'University Lecturer' 'Tech Specialist']\n",
      "----------------------------------------\n",
      "Unique values in 'Employment_Type':\n",
      "['Self-Employed' 'Employed']\n",
      "----------------------------------------\n",
      "Unique values in 'Loan_Purpose':\n",
      "['Education' 'Medical' 'Debt Consolidation' 'Vehicle' 'Home Renovation'\n",
      " 'Business Expansion' 'Agriculture' 'Consumer Goods']\n",
      "----------------------------------------\n"
     ]
    }
   ],
   "source": [
    "# Show all unique values for each categorical column\n",
    "categorical_cols = df.select_dtypes(include=['object']).columns\n",
    "for col in categorical_cols:\n",
    "    print(f\"Unique values in '{col}':\")\n",
    "    print(df[col].unique())\n",
    "    print('-' * 40)"
   ]
  },
  {
   "cell_type": "code",
   "execution_count": 7,
   "id": "c421fae4",
   "metadata": {},
   "outputs": [],
   "source": [
    "\n",
    "df = df[df['Loan_Amount_USD'] <= 20000]\n",
    "df = df[df['Interest_Rate'] >= 12]"
   ]
  },
  {
   "cell_type": "code",
   "execution_count": 8,
   "id": "955d60c3",
   "metadata": {},
   "outputs": [],
   "source": [
    "# Keep only the first 999 rows where Age == 18\n",
    "age_18_indices = df[df['Age'] == 18].index\n",
    "if len(age_18_indices) > 999:\n",
    "    drop_indices = age_18_indices[999:]\n",
    "    # Only drop indices that are still present in df\n",
    "    drop_indices = drop_indices.intersection(df.index)\n",
    "    df = df.drop(drop_indices)\n",
    "\n",
    "# Drop all rows where Age >= 60\n",
    "df = df[df['Age'] <= 60]"
   ]
  },
  {
   "cell_type": "code",
   "execution_count": 9,
   "id": "4a911a0c",
   "metadata": {},
   "outputs": [
    {
     "name": "stdout",
     "output_type": "stream",
     "text": [
      "Minimum values:\n",
      " Age                         18.00\n",
      "Dependents                   0.00\n",
      "Job_Tenure                   1.00\n",
      "Monthly_Income_USD          85.00\n",
      "Coapplicant_Income_USD       0.00\n",
      "Savings_Balance_USD         52.83\n",
      "Credit_Score               441.00\n",
      "Existing_Loans               0.00\n",
      "Late_Payments                0.00\n",
      "Loan_Term_Months             1.00\n",
      "Loan_Amount_USD           1034.32\n",
      "Interest_Rate               12.00\n",
      "dtype: float64\n",
      "\n",
      "Maximum values:\n",
      " Age                          60.00\n",
      "Dependents                    5.00\n",
      "Job_Tenure                   19.00\n",
      "Monthly_Income_USD         1563.36\n",
      "Coapplicant_Income_USD      377.68\n",
      "Savings_Balance_USD        2138.64\n",
      "Credit_Score                749.00\n",
      "Existing_Loans                7.00\n",
      "Late_Payments                 6.00\n",
      "Loan_Term_Months             38.00\n",
      "Loan_Amount_USD           19996.88\n",
      "Interest_Rate                18.00\n",
      "dtype: float64\n"
     ]
    }
   ],
   "source": [
    "# Find min and max for each column\n",
    "min_values = df.min(numeric_only=True)\n",
    "max_values = df.max(numeric_only=True)\n",
    "\n",
    "print(\"Minimum values:\\n\", min_values)\n",
    "print(\"\\nMaximum values:\\n\", max_values)"
   ]
  },
  {
   "cell_type": "code",
   "execution_count": 10,
   "id": "a88e98e8",
   "metadata": {},
   "outputs": [],
   "source": [
    "bins = [450, 550, 600, 650, 750]\n",
    "labels = ['Poor', 'Fair', 'Good', 'Very Good']\n",
    "df['Credit_Score_Category'] = pd.cut(df['Credit_Score'], bins=bins, labels=labels, include_lowest=True)"
   ]
  },
  {
   "cell_type": "code",
   "execution_count": 11,
   "id": "d2e07f1e",
   "metadata": {},
   "outputs": [
    {
     "data": {
      "application/vnd.microsoft.datawrangler.viewer.v0+json": {
       "columns": [
        {
         "name": "index",
         "rawType": "object",
         "type": "string"
        },
        {
         "name": "0",
         "rawType": "int64",
         "type": "integer"
        }
       ],
       "ref": "462d6144-a3da-4b99-80b5-9b56187ba651",
       "rows": [
        [
         "Age",
         "0"
        ],
        [
         "Gender",
         "0"
        ],
        [
         "Marital_Status",
         "0"
        ],
        [
         "Dependents",
         "0"
        ],
        [
         "Education_Level",
         "0"
        ],
        [
         "Province",
         "0"
        ],
        [
         "Job_Title",
         "0"
        ],
        [
         "Employment_Type",
         "0"
        ],
        [
         "Job_Tenure",
         "0"
        ],
        [
         "Monthly_Income_USD",
         "0"
        ],
        [
         "Coapplicant_Income_USD",
         "0"
        ],
        [
         "Savings_Balance_USD",
         "0"
        ],
        [
         "Credit_Score",
         "0"
        ],
        [
         "Existing_Loans",
         "0"
        ],
        [
         "Late_Payments",
         "0"
        ],
        [
         "Loan_Purpose",
         "0"
        ],
        [
         "Loan_Term_Months",
         "0"
        ],
        [
         "Loan_Amount_USD",
         "0"
        ],
        [
         "Interest_Rate",
         "0"
        ],
        [
         "Credit_Score_Category",
         "849"
        ]
       ],
       "shape": {
        "columns": 1,
        "rows": 20
       }
      },
      "text/plain": [
       "Age                         0\n",
       "Gender                      0\n",
       "Marital_Status              0\n",
       "Dependents                  0\n",
       "Education_Level             0\n",
       "Province                    0\n",
       "Job_Title                   0\n",
       "Employment_Type             0\n",
       "Job_Tenure                  0\n",
       "Monthly_Income_USD          0\n",
       "Coapplicant_Income_USD      0\n",
       "Savings_Balance_USD         0\n",
       "Credit_Score                0\n",
       "Existing_Loans              0\n",
       "Late_Payments               0\n",
       "Loan_Purpose                0\n",
       "Loan_Term_Months            0\n",
       "Loan_Amount_USD             0\n",
       "Interest_Rate               0\n",
       "Credit_Score_Category     849\n",
       "dtype: int64"
      ]
     },
     "execution_count": 11,
     "metadata": {},
     "output_type": "execute_result"
    }
   ],
   "source": [
    "df.isnull().sum()"
   ]
  },
  {
   "cell_type": "code",
   "execution_count": 12,
   "id": "8a440a14",
   "metadata": {},
   "outputs": [
    {
     "data": {
      "application/vnd.microsoft.datawrangler.viewer.v0+json": {
       "columns": [
        {
         "name": "index",
         "rawType": "int64",
         "type": "integer"
        },
        {
         "name": "0",
         "rawType": "bool",
         "type": "boolean"
        }
       ],
       "ref": "f18f8774-8f39-4753-9b42-997f8db25fe7",
       "rows": [
        [
         "0",
         "False"
        ],
        [
         "1",
         "False"
        ],
        [
         "2",
         "False"
        ],
        [
         "3",
         "False"
        ],
        [
         "4",
         "False"
        ],
        [
         "5",
         "False"
        ],
        [
         "6",
         "False"
        ],
        [
         "8",
         "False"
        ],
        [
         "9",
         "False"
        ],
        [
         "10",
         "False"
        ],
        [
         "11",
         "False"
        ],
        [
         "12",
         "False"
        ],
        [
         "13",
         "False"
        ],
        [
         "14",
         "False"
        ],
        [
         "15",
         "False"
        ],
        [
         "16",
         "False"
        ],
        [
         "17",
         "False"
        ],
        [
         "18",
         "False"
        ],
        [
         "19",
         "False"
        ],
        [
         "20",
         "False"
        ],
        [
         "21",
         "False"
        ],
        [
         "22",
         "False"
        ],
        [
         "23",
         "False"
        ],
        [
         "24",
         "False"
        ],
        [
         "25",
         "False"
        ],
        [
         "26",
         "False"
        ],
        [
         "27",
         "False"
        ],
        [
         "28",
         "False"
        ],
        [
         "29",
         "False"
        ],
        [
         "30",
         "False"
        ],
        [
         "31",
         "False"
        ],
        [
         "32",
         "False"
        ],
        [
         "33",
         "False"
        ],
        [
         "34",
         "False"
        ],
        [
         "35",
         "False"
        ],
        [
         "36",
         "False"
        ],
        [
         "37",
         "False"
        ],
        [
         "38",
         "False"
        ],
        [
         "39",
         "False"
        ],
        [
         "40",
         "False"
        ],
        [
         "41",
         "False"
        ],
        [
         "42",
         "False"
        ],
        [
         "43",
         "False"
        ],
        [
         "44",
         "False"
        ],
        [
         "45",
         "False"
        ],
        [
         "46",
         "False"
        ],
        [
         "47",
         "False"
        ],
        [
         "48",
         "False"
        ],
        [
         "49",
         "False"
        ],
        [
         "50",
         "False"
        ]
       ],
       "shape": {
        "columns": 1,
        "rows": 94275
       }
      },
      "text/plain": [
       "0        False\n",
       "1        False\n",
       "2        False\n",
       "3        False\n",
       "4        False\n",
       "         ...  \n",
       "99995    False\n",
       "99996    False\n",
       "99997    False\n",
       "99998    False\n",
       "99999    False\n",
       "Length: 94275, dtype: bool"
      ]
     },
     "execution_count": 12,
     "metadata": {},
     "output_type": "execute_result"
    }
   ],
   "source": [
    "df.duplicated()"
   ]
  },
  {
   "cell_type": "code",
   "execution_count": 13,
   "id": "e4c7b8dc",
   "metadata": {},
   "outputs": [],
   "source": [
    "df = df.dropna(subset=['Credit_Score_Category'])"
   ]
  },
  {
   "cell_type": "code",
   "execution_count": 14,
   "id": "b893b3a2",
   "metadata": {},
   "outputs": [],
   "source": [
    "df.to_csv('D:\\CADT\\InternshipI\\Project\\Digital-Loan\\data\\loan_data_100K_cleaned.csv', index=False)"
   ]
  }
 ],
 "metadata": {
  "kernelspec": {
   "display_name": "loan_engine",
   "language": "python",
   "name": "python3"
  },
  "language_info": {
   "codemirror_mode": {
    "name": "ipython",
    "version": 3
   },
   "file_extension": ".py",
   "mimetype": "text/x-python",
   "name": "python",
   "nbconvert_exporter": "python",
   "pygments_lexer": "ipython3",
   "version": "3.9.22"
  }
 },
 "nbformat": 4,
 "nbformat_minor": 5
}
