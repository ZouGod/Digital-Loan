version https://git-lfs.github.com/spec/v1
oid sha256:871031521527484fff3dee4ff23b4acf7af7a1d812dc1cd4a230831fe5d24e11
size 66214910
