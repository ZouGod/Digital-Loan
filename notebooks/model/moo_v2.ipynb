version https://git-lfs.github.com/spec/v1
oid sha256:e5c3d72686e4e5d8869a611c0fbcf088ca0f71c0931230b8763409cb2f6ede9b
size 297802
